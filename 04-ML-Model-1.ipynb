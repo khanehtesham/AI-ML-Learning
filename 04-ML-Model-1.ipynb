{
 "cells": [
  {
   "cell_type": "code",
   "execution_count": 13,
   "id": "47bce703-de49-44ed-a63f-82e2d7fd32e6",
   "metadata": {},
   "outputs": [
    {
     "name": "stdout",
     "output_type": "stream",
     "text": [
      "ML-Model-1\n",
      "✅ Accuracy: 0.7902097902097902\n",
      "\n",
      "📊 Confusion Matrix:\n",
      " [[73  7]\n",
      " [23 40]]\n",
      "\n",
      "📄 Classification Report:\n",
      "               precision    recall  f1-score   support\n",
      "\n",
      "           0       0.76      0.91      0.83        80\n",
      "           1       0.85      0.63      0.73        63\n",
      "\n",
      "    accuracy                           0.79       143\n",
      "   macro avg       0.81      0.77      0.78       143\n",
      "weighted avg       0.80      0.79      0.78       143\n",
      "\n"
     ]
    }
   ],
   "source": [
    "print(\"ML-Model-1\")\n",
    "import pandas as pd\n",
    "import seaborn as sns\n",
    "import matplotlib.pyplot as plt\n",
    "\n",
    "# New ML libraries\n",
    "from sklearn.model_selection import train_test_split\n",
    "from sklearn.linear_model import LogisticRegression\n",
    "from sklearn.metrics import accuracy_score, confusion_matrix, classification_report\n",
    "# 2. Load the dataset\n",
    "df = pd.read_csv(\"titanic.csv\")\n",
    "df.head()\n",
    "\n",
    "# 3. Basic data cleaning\n",
    "\n",
    "# Drop rows with missing values in 'Age' or 'Embarked'\n",
    "df = df.dropna(subset=['Age', 'Embarked'])\n",
    "\n",
    "# Map categorical columns to numbers\n",
    "df['Sex'] = df['Sex'].map({'male': 0, 'female': 1})\n",
    "df['Embarked'] = df['Embarked'].map({'S': 0, 'C': 1, 'Q': 2})\n",
    "# 4. Select features (X) and target (y)\n",
    "X = df[['Pclass', 'Sex', 'Age', 'Fare', 'Embarked']]\n",
    "y = df['Survived']\n",
    "\n",
    "# 5. Split the data into training and test sets\n",
    "X_train, X_test, y_train, y_test = train_test_split(X, y, test_size=0.2, random_state=42)\n",
    "# 6. Train the logistic regression model\n",
    "model = LogisticRegression(max_iter=1000)\n",
    "model.fit(X_train, y_train)\n",
    "# 7. Make predictions\n",
    "y_pred = model.predict(X_test)\n",
    "# 8. Evaluate the model\n",
    "print(\"✅ Accuracy:\", accuracy_score(y_test, y_pred))\n",
    "print(\"\\n📊 Confusion Matrix:\\n\", confusion_matrix(y_test, y_pred))\n",
    "print(\"\\n📄 Classification Report:\\n\", classification_report(y_test, y_pred))\n",
    "\n"
   ]
  }
 ],
 "metadata": {
  "kernelspec": {
   "display_name": "Python 3 (ipykernel)",
   "language": "python",
   "name": "python3"
  },
  "language_info": {
   "codemirror_mode": {
    "name": "ipython",
    "version": 3
   },
   "file_extension": ".py",
   "mimetype": "text/x-python",
   "name": "python",
   "nbconvert_exporter": "python",
   "pygments_lexer": "ipython3",
   "version": "3.12.10"
  }
 },
 "nbformat": 4,
 "nbformat_minor": 5
}
