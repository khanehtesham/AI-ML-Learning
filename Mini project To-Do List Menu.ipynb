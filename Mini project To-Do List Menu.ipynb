{
 "cells": [
  {
   "cell_type": "code",
   "execution_count": 64,
   "id": "384c0d14-7f54-4253-a7fd-c75d6668127a",
   "metadata": {},
   "outputs": [
    {
     "name": "stdout",
     "output_type": "stream",
     "text": [
      "\n",
      "Mini project To-Do List Menu:\n",
      "1. View tasks\n",
      "2. Add task\n",
      "3. Mark task as done\n",
      "4. Save tasks\n",
      "5. Load tasks\n",
      "6. Exit\n"
     ]
    },
    {
     "name": "stdin",
     "output_type": "stream",
     "text": [
      "Enter your choice (1-6):  6\n"
     ]
    },
    {
     "name": "stdout",
     "output_type": "stream",
     "text": [
      "Goodbye!\n"
     ]
    }
   ],
   "source": [
    "import json\n",
    "\n",
    "tasks = []  # List to store task dictionaries\n",
    "\n",
    "def view_tasks(tasks):\n",
    "    print(tasks)\n",
    "    if not tasks:\n",
    "        print(\"No tasks found.\")\n",
    "        return\n",
    "\n",
    "    print(\"\\nYour Tasks:\")\n",
    "    for index, task in enumerate(tasks, start=1):\n",
    "        status = \"✓\" if task[\"done\"] else \"✗\"\n",
    "        print(f\"{index}. [{status}] {task['title']}\")\n",
    "        \n",
    "def add_tasks(tasks):\n",
    "    title = input(\"Enter the task title: \").strip()\n",
    "    if title:\n",
    "        tasks.append({\"title\": title, \"done\": False})\n",
    "        print(f\"Task '{title}' added.\")\n",
    "    else:\n",
    "        print(\"Task title cannot be empty.\")\n",
    " \n",
    "def mark_done(tasks):\n",
    "    if not tasks:\n",
    "        print(\"No tasks to mark as done.\")\n",
    "        return\n",
    "\n",
    "    view_tasks(tasks)  # Reuse the view function\n",
    "\n",
    "    try:\n",
    "        choice = int(input(\"Enter the number of the task to mark as done: \"))\n",
    "        if 1 <= choice <= len(tasks):\n",
    "            tasks[choice - 1][\"done\"] = True\n",
    "            print(f\"Task '{tasks[choice - 1]['title']}' marked as done.\")\n",
    "        else:\n",
    "            print(\"Invalid task number.\")\n",
    "    except ValueError:\n",
    "        print(\"Please enter a valid number.\")\n",
    "\n",
    "def save_tasks(tasks, filename=\"tasks.json\"):\n",
    "    try:\n",
    "        with open(filename, \"w\") as f:\n",
    "            json.dump(tasks, f, indent=4)\n",
    "        print(f\"Tasks saved to {filename}.\")\n",
    "    except Exception as e:\n",
    "        print(f\"Error saving tasks: {e}\")\n",
    "        \n",
    "def load_tasks(filename=\"tasks.json\"):\n",
    "    try:\n",
    "        with open(filename, \"r\") as f:\n",
    "            loaded_tasks = json.load(f)\n",
    "        print(f\"Tasks loaded from {filename}.\")\n",
    "        return loaded_tasks\n",
    "    except FileNotFoundError:\n",
    "        print(f\"No saved tasks found at {filename}. Starting with an empty list.\")\n",
    "        return []\n",
    "    except Exception as e:\n",
    "        print(f\"Error loading tasks: {e}\")\n",
    "        return []\n",
    "\n",
    "   \n",
    "\n",
    "def show_menu():\n",
    "    print(\"\\nMini project To-Do List Menu:\")\n",
    "    print(\"1. View tasks\")\n",
    "    print(\"2. Add task\")\n",
    "    print(\"3. Mark task as done\")\n",
    "    print(\"4. Save tasks\")\n",
    "    print(\"5. Load tasks\")\n",
    "    print(\"6. Exit\")\n",
    "\n",
    "while True:\n",
    "    show_menu()\n",
    "    choice = input(\"Enter your choice (1-6): \")\n",
    "\n",
    "    if choice == \"1\":\n",
    "        view_tasks(tasks)  # Placeholder\n",
    "    elif choice == \"2\":\n",
    "       add_tasks(tasks)  # Placeholder\n",
    "    elif choice == \"3\":\n",
    "       mark_done(tasks)  # Placeholder\n",
    "    elif choice == \"4\":\n",
    "       save_tasks(tasks)  # Placeholder\n",
    "    elif choice == \"5\":\n",
    "       tasks = load_tasks()  # Placeholder\n",
    "    elif choice == \"6\":\n",
    "        print(\"Goodbye!\")\n",
    "        break\n",
    "    else:\n",
    "        print(\"Invalid choice. Please enter a number from 1 to 6.\")\n"
   ]
  }
 ],
 "metadata": {
  "kernelspec": {
   "display_name": "Python 3 (ipykernel)",
   "language": "python",
   "name": "python3"
  },
  "language_info": {
   "codemirror_mode": {
    "name": "ipython",
    "version": 3
   },
   "file_extension": ".py",
   "mimetype": "text/x-python",
   "name": "python",
   "nbconvert_exporter": "python",
   "pygments_lexer": "ipython3",
   "version": "3.12.10"
  }
 },
 "nbformat": 4,
 "nbformat_minor": 5
}
