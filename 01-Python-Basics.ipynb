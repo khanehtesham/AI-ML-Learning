{
 "cells": [
  {
   "cell_type": "code",
   "execution_count": 2,
   "id": "384c0d14-7f54-4253-a7fd-c75d6668127a",
   "metadata": {},
   "outputs": [
    {
     "name": "stdout",
     "output_type": "stream",
     "text": [
      "hello world....\n"
     ]
    }
   ],
   "source": [
    "print(\"hello world....\") "
   ]
  },
  {
   "cell_type": "code",
   "execution_count": null,
   "id": "1d9d3464-9f26-4cda-b5c2-e6946bff6427",
   "metadata": {},
   "outputs": [],
   "source": []
  }
 ],
 "metadata": {
  "kernelspec": {
   "display_name": "Python 3 (ipykernel)",
   "language": "python",
   "name": "python3"
  },
  "language_info": {
   "codemirror_mode": {
    "name": "ipython",
    "version": 3
   },
   "file_extension": ".py",
   "mimetype": "text/x-python",
   "name": "python",
   "nbconvert_exporter": "python",
   "pygments_lexer": "ipython3",
   "version": "3.12.10"
  }
 },
 "nbformat": 4,
 "nbformat_minor": 5
}
