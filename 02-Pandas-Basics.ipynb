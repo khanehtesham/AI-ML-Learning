{
 "cells": [
  {
   "cell_type": "code",
   "execution_count": null,
   "id": "73aa3e4d-372e-4b0e-b55b-1d04fd531d99",
   "metadata": {},
   "outputs": [],
   "source": [
    "print(\"pandas Basics\")"
   ]
  }
 ],
 "metadata": {
  "kernelspec": {
   "display_name": "Python 3 (ipykernel)",
   "language": "python",
   "name": "python3"
  },
  "language_info": {
   "codemirror_mode": {
    "name": "ipython",
    "version": 3
   },
   "file_extension": ".py",
   "mimetype": "text/x-python",
   "name": "python",
   "nbconvert_exporter": "python",
   "pygments_lexer": "ipython3",
   "version": "3.12.10"
  }
 },
 "nbformat": 4,
 "nbformat_minor": 5
}
